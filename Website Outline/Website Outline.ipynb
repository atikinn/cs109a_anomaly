{
 "cells": [
  {
   "cell_type": "markdown",
   "metadata": {},
   "source": [
    "# Anomaly Detection - Zelong\n",
    "**Harvard University**<br>\n",
    "**Fall 2016**<br>\n",
    "**Instructors: W. Pan, P. Protopapas, K. Rader**<br>\n",
    "<br>\n",
    "**Dennis Milechin, Ivan Sunyagin, Hany Bassily**"
   ]
  },
  {
   "cell_type": "markdown",
   "metadata": {},
   "source": [
    "### Introduction\n",
    "\n",
    "When looking at streaming data, one may want to get an alert or notification when an anomoly is detected.  An anomoly is an \"event\" that is not considered normal or expected.  This could consist of streaming data that contains data outside the expected probability distribution or the fact that the properties of the distribution are changing themselves over time, such as variance.  \n",
    "\n",
    "The detection of anomolies can have various applications.  One maybe interested to have a model to detect and alert operators when a sensor is generating abnormal data, which could mean failure of a sensor or an issue with a production line for a product.  Anomoly detection could also be applied to other industries, such as finance, economics, and sciences. \n",
    "\n",
    "For the Data Science Project, our group developed a modeled and explored the capabilities of anomoly detection method known as \"Testing Exchangeability Online\", proposed by Vladimir Vovk et al. (Vovk, 2003). Additionally, a \"Plug-in Martingales for Testing Exchability On-Line\" was also explored and implemented (Fedorova, 2012)."
   ]
  },
  {
   "cell_type": "markdown",
   "metadata": {},
   "source": [
    "### Model Description\n",
    "\n",
    "Their technique is essentially based on the assumption of exchangeability in the data where the joint distribution of observed features does not change under any order permutation of those observations if there is no anomaly in the data. Such approach is very close to the common iid (independent identically distributed) concept. In their technique, they create for each observation a p-value based on a measure of how close the newly observed data point is to all the previously observed ones. Based on the exchangeability assumption, a martingale can be constructed with all the p-values using a joining function (betting function) for all the calculated p-values. The behavior of this martingale is the metric used to assess the presence of an anomaly since any anomaly is assumed to be nonconformal with the exchangeability hypothesis. In this case a high martingale value is an indication of an anomaly (Vovk, 2003).\n",
    "\n",
    "In Vovk's et al. original work they proposed a power martingale as a betting function. This proposal is totally suitable when there are many small p-values in the sequence. In other words, the data distribution is consistent for most of the sampling time. When there are changes in the data distribution in a way that the calculated p-values are large, the martingale will not grow sufficiently enough when an anomaly occurs to reject the exchangeability assumption (Vovk, 2003).\n",
    "\n",
    "The martingale is in the form of: \n",
    "\n",
    "$$s_n = \\prod_{i=1}^{n}f_i(p_i), n = 1, 2, ...$$\n",
    "\n",
    "Where <i>n</i> represent the observed data and $f_i(p_i)$ represents the betting function in the form of:\n",
    "$$f_i(p) = \\epsilon p^{(\\epsilon -1)}$$\n",
    "\n",
    "Where <i>p</i> are the calculated p-values and epsilon is a random value obtained from a uniform distribution of [0,1] (Vovk, 2003).\n",
    "\n",
    "A variation of this method incorporates a new betting function, known as a \"plug-in\", in a form of:\n",
    "$$ \\rho_i =  \\hat{\\rho}(p_1, p_2,...,p_{i-1},p)$$\n",
    "\n",
    "Where this plug-in represent the joint distribution function of all observed p-values.\n"
   ]
  },
  {
   "cell_type": "markdown",
   "metadata": {},
   "source": [
    "###  Testing of the Anomoly Detection Model\n",
    "\n",
    "The Testing Exchangiability Online and the Plug-in Martingale variation was implemented using Python.  The developed model is available at the following Git repository <b>(IVAN PLEASE ADD LINK)</b>\n",
    "\n",
    "We tested the model with randomly generated data but with an induced anomoly for detection.  We tested the model to see if it was able to detect anomolies based strangeness function of distance, variance change, and slope/trend change.   The following are the findings from these tests.\n",
    "\n",
    "<b>(HANY PLEASE ADD IN THE INFORMATION</b>)"
   ]
  },
  {
   "cell_type": "markdown",
   "metadata": {},
   "source": [
    "### Application of Model to Detect Hurricanes\n",
    "\n",
    "We adapted the Testing Exchangiability Online anomoly detection method to see if we could use the climatological data from Ocean Buoys to detect an anomoloy of a Hurrican passing through.  This approach uses a multi-feature anomoly detection approach.\n",
    "\n",
    "\n",
    "\n",
    "#### Data\n",
    "\n",
    "The data considered represents the climatological data gathered from ten Ocean Buoy located in the western Atlantic. The ten Buoy spans the region between southern Bermuda to Puerto Rico. \n",
    "\n",
    "<img src=\"IMG/Bouy_Loc.png\">\n",
    "\n",
    "The data includes atmospheric and oceanic information. The buoy considered in this study are owned by NOAA and the National Weather Service. However, there are other buoy operating in the same area and owned by different parties. In actual studies, all the data from all the buoys are considered which make this data accessible to all concerned entities. For this project, we are considering the NOAA buoys as their data are available to the public and the contained information is sufficient to the project objective. The following picture depicts how the buoy looks like:\n",
    "\n",
    "<img src=\"IMG/bouy.jpg\">\n",
    "(source: NOAA; http://www.ndbc.noaa.gov/station_page.php?station=44065)\n",
    "\n",
    "Each buoy data is divided in separate files where each file corresponds to a specific month. The period considered is between January 2016 and September 2016. The observations are sampled on an hourly basis. The features in the data includes:\n",
    "<ul>\n",
    "<li>Wind Direction \n",
    "<li>Wind Speed \n",
    "<li>Wind Gust\n",
    "<li>Wave Height\n",
    "<li>Dominant Wave Period\n",
    "<li>Average Period\n",
    "<li>Mean Wave Direction\n",
    "<li>Atmospheric Pressure\n",
    "<li>Pressure Tendency\n",
    "<li>Air Temperature Water\n",
    "<li>Temperature\n",
    "<li>Wind Speed at 10 Meters\n",
    "<li>Wind Speed at 20 Meters\n",
    "</ul>\n",
    "\n",
    "For each sensor, missing data is designated as series of 9's, such as 99.0 or 9999.0. These values are converted into null values so that they can be removed prior to applying the data to the anomoly detection models.  The following is an example time-series plot of one feature of the data set, representing the Average Wave Period.\n",
    "\n",
    "<img src=\"IMG/avg_wave_period.png\">\n",
    "\n",
    "The timeseries plot shows the reality of real world data, and that it is not clean and organized.  With such chaotic dat, anomoly detection may prove to be challenging.  Therefor the buoy data is a good data set for testing for anomolies.\n",
    "\n",
    "All data and modeling files can be obtained from the Git hub <b>(IVAN PLEASE INCLUDE LINK)</b>\n",
    "\n",
    "#### Detecting Hurricane Mathew\n",
    "\n",
    "Hurricane Mathew was the most significant storm to hit the carribean area in the end September 2016 and into early October 2016 (The Weather Channel, 2016).  \n",
    "\n",
    "<img src=\"IMG/matthew-history.jpg\">\n",
    "(source: The Weather Channel; https://dsx.weather.com//util/image/w/matthew-history.jpg?v=ap&w=980&h=551&api=7db9fe61-7414-47b5-9871-e17d87b8b6a0)\n",
    "\n",
    "\n",
    "\n",
    "\n",
    "<B> (HANY PLEASE FILL IN YOUR MODEL RESULTS) </B>"
   ]
  },
  {
   "cell_type": "markdown",
   "metadata": {},
   "source": [
    "### Results\n",
    "\n",
    "For this project, we explored a method of identifying anomolies by Testing Exchangiability Online and a variation of this method using a Martingale Plug-in.  Based on these results we have identified that these methods are good for detecting anomolies bases on these strangness metric ...<b> NEED TO ANSWER QUESTION</b>.  This method did not perform well under these conditions....<b> NEED TO ANSWER QUESTION</b> .... for these potential reasons....<b> NEED TO ANSWER QUESTION</b>\n",
    "\n",
    "\n",
    "The implementation of the Testing Exchangiability Online to detecting Hurricane Matthew implemented the distance strangess <b>(I think?)</b> metric.  <b> NEED TO ADD CONCLUSION OF THE DETECTION RESULT</b>\n",
    "\n",
    "\n"
   ]
  },
  {
   "cell_type": "markdown",
   "metadata": {},
   "source": [
    "### Conclusion\n",
    "\n",
    "The results from our exploration indicate that Testing Exchangiability Online is a valid anomoly detector in a time series data for detecting stragness in distance and change in variance, but does not perform well for slope/trend change or outlier detection. <B>NEED TO CONFIRM IF THIS STATEMENT IS CORRECT</B>\n",
    "\n",
    "It is uncertain what type of scalability this algorithm can handle. During our implementation of the model, we did observe the model would take 10 seconds to process one bouy of data of 20,000 records. Potential future work can explore the scalability of the algorithm by varying the dataset size and measuring the processing time.  \n",
    "\n",
    "<B> PLEASE ADD OTHER IDEAS</B>"
   ]
  },
  {
   "cell_type": "markdown",
   "metadata": {},
   "source": [
    "### Citations\n",
    "\n",
    "<ol>\n",
    "<li>Vladimir Vovk, Ilia Nouretdinov, Alex J. Gammerman, “Testing\n",
    "Exchangeability Online”, ICML 2003.\n",
    "<li>Shen-Shyang Ho; Wechsler, H., \"A Martingale Framework for Detecting\n",
    "Changes in Data Streams by Testing Exchangeability,\" Pattern Analysis\n",
    "and Machine Intelligence, IEEE Transactions , vol.32, no.12, pp.\n",
    "2113,2127, Dec. 2010\n",
    "<li>Valentina Fedorova, Alex J. Gammerman, Ilia Nouretdinov, Vladimir Vovk,\n",
    "“Plug-in martingales for testing exchangeability on-line”, ICML 2012\n",
    "<li>National Oceanic and Atmospheric Administration (NOAA). \"National data Buoy Center.\" <http://www.ndbc.noaa.gov/> Oct. 2016.\n",
    "<li>The Weather Channel.  \"Hurricane Matthew Recap: Destruction From the Caribbean to the United States. <https://weather.com/storms/hurricane/news/hurricane-matthew-bahamas-florida-georgia-carolinas-forecast>, Oct. 2016.\n",
    "</ol>"
   ]
  }
 ],
 "metadata": {
  "kernelspec": {
   "display_name": "Python 2",
   "language": "python",
   "name": "python2"
  },
  "language_info": {
   "codemirror_mode": {
    "name": "ipython",
    "version": 2
   },
   "file_extension": ".py",
   "mimetype": "text/x-python",
   "name": "python",
   "nbconvert_exporter": "python",
   "pygments_lexer": "ipython2",
   "version": "2.7.6"
  }
 },
 "nbformat": 4,
 "nbformat_minor": 1
}
